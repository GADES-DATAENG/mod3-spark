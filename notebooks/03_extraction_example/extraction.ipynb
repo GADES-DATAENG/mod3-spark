{
 "cells": [
  {
   "cell_type": "code",
   "execution_count": null,
   "id": "72f13e5d-6fb5-4c19-afc8-0b5a27b57355",
   "metadata": {},
   "outputs": [],
   "source": [
    "input_path = \"/opt/spark/data/jaffle_data\"\n",
    "bq_project = \"lively-hall-447909-i7\"\n",
    "bq_dataset = \"staging\"\n",
    "bq_table = \"customers\"\n",
    "temp_gcp_bucket = \"jaffle_shop_bronze_data\""
   ]
  },
  {
   "cell_type": "code",
   "execution_count": null,
   "id": "61d12ddd-4ea3-43eb-978e-85ea27c255a9",
   "metadata": {},
   "outputs": [],
   "source": [
    "import os\n",
    "gcp_keyfile = \"../keys/gcp_keyfile.json\"\n",
    "os.environ['GOOGLE_APPLICATION_CREDENTIALS']=gcp_keyfile"
   ]
  },
  {
   "cell_type": "code",
   "execution_count": null,
   "id": "66091716-8506-4119-9f6a-1b63bbbf0d1b",
   "metadata": {},
   "outputs": [],
   "source": [
    "from pyspark.sql import SparkSession\n",
    "\n",
    "spark = SparkSession.builder \\\n",
    "    .appName(\"CSV to BigQuery\") \\\n",
    "    .master(\"spark://spark-master:7077\") \\\n",
    "    .config(\"spark.jars.packages\", \"com.google.cloud.spark:spark-bigquery-with-dependencies_2.12:0.28.0\") \\\n",
    "    .config(\"spark.hadoop.google.cloud.auth.service.account.enable\", \"true\") \\\n",
    "    .config(\"spark.hadoop.google.cloud.auth.service.account.json.keyfile\", gcp_keyfile) \\\n",
    "    .getOrCreate()"
   ]
  },
  {
   "cell_type": "code",
   "execution_count": null,
   "id": "24e49d4c-6eef-4b5e-827f-f20384cfcffc",
   "metadata": {},
   "outputs": [],
   "source": [
    "df = spark.read.option(\"header\", \"true\").csv(f\"{input_path}/{bq_table}.csv\")"
   ]
  },
  {
   "cell_type": "code",
   "execution_count": null,
   "id": "1ea02f48-bcdf-49fb-87b1-1a0b76ea4280",
   "metadata": {},
   "outputs": [],
   "source": [
    "df.count()"
   ]
  },
  {
   "cell_type": "code",
   "execution_count": 10,
   "id": "d5193ce6-f2b9-44d2-841c-1b0b54d2ec85",
   "metadata": {},
   "outputs": [
    {
     "name": "stdout",
     "output_type": "stream",
     "text": [
      "root\n",
      " |-- id: string (nullable = true)\n",
      " |-- name: string (nullable = true)\n",
      "\n"
     ]
    }
   ],
   "source": [
    "df.printSchema()"
   ]
  },
  {
   "cell_type": "code",
   "execution_count": null,
   "id": "424ffd24-57d5-4f06-ac68-bc1d2c172aca",
   "metadata": {},
   "outputs": [],
   "source": [
    "df.write \\\n",
    "        .format(\"bigquery\") \\\n",
    "        .option(\"table\", f\"{bq_project}.{bq_dataset}.{bq_table}\") \\\n",
    "        .option(\"writeMethod\", \"direct\") \\\n",
    "        .mode(\"append\") \\\n",
    "        .save()"
   ]
  },
  {
   "cell_type": "code",
   "execution_count": 11,
   "id": "c655531a-b71c-4314-868a-efa26f39a8ab",
   "metadata": {},
   "outputs": [],
   "source": [
    "spark.stop()"
   ]
  }
 ],
 "metadata": {
  "kernelspec": {
   "display_name": "Python 3 (ipykernel)",
   "language": "python",
   "name": "python3"
  },
  "language_info": {
   "codemirror_mode": {
    "name": "ipython",
    "version": 3
   },
   "file_extension": ".py",
   "mimetype": "text/x-python",
   "name": "python",
   "nbconvert_exporter": "python",
   "pygments_lexer": "ipython3",
   "version": "3.11.11"
  }
 },
 "nbformat": 4,
 "nbformat_minor": 5
}
