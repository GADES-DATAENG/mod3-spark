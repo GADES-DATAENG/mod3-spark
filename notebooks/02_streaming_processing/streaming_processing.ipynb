{
 "cells": [
  {
   "cell_type": "code",
   "execution_count": null,
   "id": "bcf1d0cb-b079-4ee9-a8f7-4fdbfb7ecfd6",
   "metadata": {},
   "outputs": [],
   "source": [
    "from pyspark.sql import SparkSession\n",
    "from pyspark.sql.functions import explode, split, col, from_json\n",
    "from pyspark.sql.types import StringType, StructType, StructField, IntegerType\n",
    "import sys\n",
    "\n",
    "# Create a Spark session with Kafka integration\n",
    "spark = SparkSession.builder \\\n",
    "    .appName(\"KafkaStreamExample\") \\\n",
    "    .config(\"spark.jars.packages\", \"org.apache.spark:spark-sql-kafka-0-10_2.12:3.4.1\") \\\n",
    "    .getOrCreate()"
   ]
  },
  {
   "cell_type": "code",
   "execution_count": null,
   "id": "466f65aa-4b7a-40ca-96d1-2a55d39a761a",
   "metadata": {},
   "outputs": [],
   "source": [
    "# Define schema for the JSON data (expecting a key 'message' with a string value)\n",
    "json_schema = StructType([\n",
    "    StructField(\"message_content\", StringType(), True)  # The 'message' key contains a sentence\n",
    "])"
   ]
  },
  {
   "cell_type": "code",
   "execution_count": null,
   "id": "e0165db5-a1d6-4629-80fe-d1547bce3c26",
   "metadata": {},
   "outputs": [],
   "source": [
    "df = spark.readStream \\\n",
    "    .format(\"kafka\") \\\n",
    "    .option(\"kafka.bootstrap.servers\", \"kafka:9093\") \\\n",
    "    .option(\"subscribe\", \"test-topic\") \\\n",
    "    .load()"
   ]
  },
  {
   "cell_type": "code",
   "execution_count": null,
   "id": "14bef1d3-d59e-43f8-a509-7cfa7c43b739",
   "metadata": {},
   "outputs": [],
   "source": [
    "# The value in Kafka is in bytes, so we need to cast it to string\n",
    "kafka_stream_df = df.selectExpr(\"CAST(value AS STRING)\")"
   ]
  },
  {
   "cell_type": "code",
   "execution_count": null,
   "id": "8ccf3ecd-8448-4165-aa9a-a5ab97ec00f2",
   "metadata": {},
   "outputs": [],
   "source": [
    "# Parse the JSON data and extract the 'message' field\n",
    "parsed_df = kafka_stream_df.select(from_json(col(\"value\"), json_schema).alias(\"data\"))"
   ]
  },
  {
   "cell_type": "code",
   "execution_count": null,
   "id": "8acedb64-e0f0-4033-bbb6-dc1f2529e256",
   "metadata": {},
   "outputs": [],
   "source": [
    "# Extract the 'message' field from the parsed JSON\n",
    "message_df = parsed_df.select(col(\"data.message_content\").alias(\"message\"))"
   ]
  },
  {
   "cell_type": "code",
   "execution_count": null,
   "id": "7265ce8d-aaee-430e-be06-90f6328582d8",
   "metadata": {},
   "outputs": [],
   "source": [
    "# Split the message into words\n",
    "words_df = message_df.select(explode(split(col(\"message\"), \"\\s+\")).alias(\"word\"))"
   ]
  },
  {
   "cell_type": "code",
   "execution_count": null,
   "id": "02773a4c-75b7-4592-bbc0-7e43f40c8df3",
   "metadata": {},
   "outputs": [],
   "source": [
    "# Count the occurrences of each word\n",
    "word_counts_df = words_df.groupBy(\"word\").count()"
   ]
  },
  {
   "cell_type": "code",
   "execution_count": null,
   "id": "8618978c-e7b7-4f86-b5f3-d724f1f15d71",
   "metadata": {},
   "outputs": [],
   "source": [
    "# Write the output to the console, this will update in real-time\n",
    "query = word_counts_df \\\n",
    "    .writeStream \\\n",
    "    .outputMode(\"complete\") \\\n",
    "    .format(\"console\") \\\n",
    "    .option(\"truncate\", \"false\") \\\n",
    "    .start()"
   ]
  },
  {
   "cell_type": "code",
   "execution_count": null,
   "id": "1524cd04-79a5-4f65-af0b-010a02f05d00",
   "metadata": {},
   "outputs": [],
   "source": [
    "spark.stop()"
   ]
  }
 ],
 "metadata": {
  "kernelspec": {
   "display_name": "Python 3 (ipykernel)",
   "language": "python",
   "name": "python3"
  },
  "language_info": {
   "codemirror_mode": {
    "name": "ipython",
    "version": 3
   },
   "file_extension": ".py",
   "mimetype": "text/x-python",
   "name": "python",
   "nbconvert_exporter": "python",
   "pygments_lexer": "ipython3",
   "version": "3.11.11"
  }
 },
 "nbformat": 4,
 "nbformat_minor": 5
}
